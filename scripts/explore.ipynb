{
 "cells": [
  {
   "cell_type": "code",
   "execution_count": 60,
   "metadata": {},
   "outputs": [],
   "source": [
    "import pandas as pd\n",
    "import numpy as np\n",
    "import csv\n",
    "import matplotlib.pyplot as plt\n",
    "from sklearn.model_selection import cross_val_score\n",
    "from sklearn.neural_network import MLPRegressor\n",
    "from sklearn.ensemble import RandomForestRegressor\n",
    "from sklearn import linear_model\n",
    "from sklearn import preprocessing"
   ]
  },
  {
   "cell_type": "code",
   "execution_count": 15,
   "metadata": {},
   "outputs": [],
   "source": [
    "#Root Mean Squared Log Error\n",
    "#Ensure all positive values in input arrays\n",
    "def rmsle(truth, predicted):\n",
    "    return np.sqrt(np.mean( (np.log(predicted + 1) - np.log(truth + 1)) ** 2) )"
   ]
  },
  {
   "cell_type": "code",
   "execution_count": 53,
   "metadata": {},
   "outputs": [],
   "source": [
    "#load data\n",
    "train_df = pd.read_csv('../input/train.csv')\n",
    "y = train_df.pop('target')\n",
    "ids = train_df.pop('ID')"
   ]
  },
  {
   "cell_type": "code",
   "execution_count": 54,
   "metadata": {},
   "outputs": [],
   "source": [
    "#preprocess\n",
    "\n",
    "#add features\n",
    "def prepare(data_orig):\n",
    "    data = pd.DataFrame()\n",
    "    data['mean'] = data_orig.mean(axis=1)\n",
    "    data['std'] = data_orig.std(axis=1)\n",
    "    data['min'] = data_orig.min(axis=1)\n",
    "    data['max'] = data_orig.max(axis=1)\n",
    "    \n",
    "    # Number of diferent values in a row.\n",
    "    data['number_of_different'] = data_orig.nunique(axis=1)\n",
    "    \n",
    "    # Number of non zero values (e.g. transaction count)\n",
    "    data['non_zero_count'] = data_orig.fillna(0).astype(bool).sum(axis=1)\n",
    "    return data\n",
    "\n",
    "X = prepare(train_df)"
   ]
  },
  {
   "cell_type": "code",
   "execution_count": 55,
   "metadata": {},
   "outputs": [
    {
     "data": {
      "text/plain": [
       "array([[1.44413611e+05, 1.74126070e+06, 0.00000000e+00, 4.00000000e+07,\n",
       "        5.30000000e+01, 1.02000000e+02],\n",
       "       [1.06585187e+05, 1.52929354e+06, 0.00000000e+00, 5.00000000e+07,\n",
       "        2.30000000e+01, 6.70000000e+01],\n",
       "       [1.52674815e+04, 3.31407582e+05, 0.00000000e+00, 1.20000000e+07,\n",
       "        1.20000000e+01, 1.80000000e+01],\n",
       "       ...,\n",
       "       [2.01785748e+05, 1.73516632e+06, 0.00000000e+00, 8.00000000e+07,\n",
       "        4.50000000e+01, 1.84000000e+02],\n",
       "       [8.53997195e+03, 2.25825949e+05, 0.00000000e+00, 1.00000000e+07,\n",
       "        1.80000000e+01, 4.10000000e+01],\n",
       "       [2.17000200e+05, 2.22812920e+06, 0.00000000e+00, 7.00000000e+07,\n",
       "        1.90000000e+01, 8.40000000e+01]])"
      ]
     },
     "metadata": {},
     "output_type": "display_data"
    }
   ],
   "source": [
    "#create training set\n",
    "X_train = X[0:3000].values\n",
    "y_train = y[0:3000]\n",
    "\n",
    "#create testing set\n",
    "X_test = X[3000:].values\n",
    "y_test = y[3000:]\n",
    "\n",
    "display(X_train)"
   ]
  },
  {
   "cell_type": "code",
   "execution_count": 56,
   "metadata": {
    "scrolled": false
   },
   "outputs": [
    {
     "data": {
      "text/plain": [
       "RandomForestRegressor(bootstrap=True, criterion='mse', max_depth=None,\n",
       "           max_features='auto', max_leaf_nodes=None,\n",
       "           min_impurity_decrease=0.0, min_impurity_split=None,\n",
       "           min_samples_leaf=1, min_samples_split=2,\n",
       "           min_weight_fraction_leaf=0.0, n_estimators=100, n_jobs=1,\n",
       "           oob_score=False, random_state=None, verbose=0, warm_start=False)"
      ]
     },
     "execution_count": 56,
     "metadata": {},
     "output_type": "execute_result"
    }
   ],
   "source": [
    "#create and fit model\n",
    "forest = RandomForestRegressor(n_estimators = 100)\n",
    "forest.fit(X_train, y_train)"
   ]
  },
  {
   "cell_type": "code",
   "execution_count": 59,
   "metadata": {},
   "outputs": [
    {
     "name": "stdout",
     "output_type": "stream",
     "text": [
      "RMSLE:  1.6781255986891879\n"
     ]
    }
   ],
   "source": [
    "#evaluate model\n",
    "predictions = forest.predict(X_test)\n",
    "print('RMSLE: ', rmsle(y_test.values, predictions))"
   ]
  },
  {
   "cell_type": "code",
   "execution_count": null,
   "metadata": {},
   "outputs": [],
   "source": [
    "test_df = pd.read_csv('../input/test.csv')\n",
    "\n",
    "for row in output:\n",
    "    writer.writerow([row[0], row[1]])"
   ]
  }
 ],
 "metadata": {
  "kernelspec": {
   "display_name": "Python 3",
   "language": "python",
   "name": "python3"
  },
  "language_info": {
   "codemirror_mode": {
    "name": "ipython",
    "version": 3
   },
   "file_extension": ".py",
   "mimetype": "text/x-python",
   "name": "python",
   "nbconvert_exporter": "python",
   "pygments_lexer": "ipython3",
   "version": "3.5.2"
  }
 },
 "nbformat": 4,
 "nbformat_minor": 2
}
