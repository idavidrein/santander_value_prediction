{
 "cells": [
  {
   "cell_type": "code",
   "execution_count": 9,
   "metadata": {},
   "outputs": [],
   "source": [
    "import pandas as pd\n",
    "import numpy as np\n",
    "import csv\n",
    "import matplotlib.pyplot as plt\n",
    "from sklearn.model_selection import cross_val_score\n",
    "from sklearn.neural_network import MLPRegressor\n",
    "from sklearn.ensemble import RandomForestRegressor\n",
    "from sklearn.decomposition import PCA\n",
    "from sklearn import linear_model\n",
    "from sklearn import preprocessing"
   ]
  },
  {
   "cell_type": "code",
   "execution_count": 10,
   "metadata": {},
   "outputs": [],
   "source": [
    "#Root Mean Squared Log Error\n",
    "#Ensure all positive values in input arrays\n",
    "def rmsle(truth, predicted):\n",
    "    return np.sqrt(np.mean((np.log1p(predicted)-np.log1p(truth))**2))"
   ]
  },
  {
   "cell_type": "code",
   "execution_count": 34,
   "metadata": {},
   "outputs": [],
   "source": [
    "#add features/preprocessing\n",
    "def prepare(data_orig):\n",
    "    \n",
    "    #PCA dimensionality reduction\n",
    "    pca = PCA(n_components = 5)\n",
    "    data = pd.DataFrame(pca.fit_transform(data_orig))\n",
    "    \n",
    "    #feature engineering\n",
    "    data['mean'] = data_orig.mean(axis=1)\n",
    "    data['std'] = data_orig.std(axis=1)\n",
    "    data['min'] = data_orig.min(axis=1)\n",
    "    data['max'] = data_orig.max(axis=1)\n",
    "    \n",
    "    # Number of diferent values in a row.\n",
    "    data['number_of_different'] = data_orig.nunique(axis=1)\n",
    "    \n",
    "    # Number of non zero values (e.g. transaction count)\n",
    "    data['non_zero_count'] = data_orig.fillna(0).astype(bool).sum(axis=1)\n",
    "    \n",
    "    return data"
   ]
  },
  {
   "cell_type": "code",
   "execution_count": 30,
   "metadata": {},
   "outputs": [],
   "source": [
    "#load data\n",
    "train_df = pd.read_csv('../input/train.csv')\n",
    "y_train = train_df.pop('target')\n",
    "iiii = train_df.pop('ID')"
   ]
  },
  {
   "cell_type": "code",
   "execution_count": 35,
   "metadata": {},
   "outputs": [],
   "source": [
    "#remove columns only with zeros\n",
    "train_df = train_df.loc[:, (train_df != 0).any(axis = 0)]\n",
    "\n",
    "X_train = prepare(train_df).values"
   ]
  },
  {
   "cell_type": "code",
   "execution_count": 36,
   "metadata": {
    "scrolled": true
   },
   "outputs": [],
   "source": [
    "#create, fit, and evaluate model\n",
    "forest = RandomForestRegressor(n_estimators = 100)\n",
    "scores = np.sqrt(-cross_val_score(forest, X_train, y_train, cv = 5, \n",
    "                                  scoring = 'neg_mean_squared_log_error'))"
   ]
  },
  {
   "cell_type": "code",
   "execution_count": 37,
   "metadata": {},
   "outputs": [
    {
     "name": "stdout",
     "output_type": "stream",
     "text": [
      "1.668862510038783\n",
      "[1.59516393 1.69817128 1.58809503 1.69981058 1.76307173]\n"
     ]
    }
   ],
   "source": [
    "print(np.mean(scores))\n",
    "print(scores)"
   ]
  },
  {
   "cell_type": "code",
   "execution_count": null,
   "metadata": {},
   "outputs": [],
   "source": [
    "test_df = pd.read_csv('../input/test.csv')\n",
    "ids = test_df.pop('ID')\n",
    "\n",
    "with open(\"../predictions/predictions.csv\", \"w\", newline = '') as writeCSV:\n",
    "    writer = csv.writer(writeCSV)\n",
    "    writer.writerow([\"ID\",\"target\"])\n",
    "    kTest = prepare(test_df).values\n",
    "    output = forest.predict(kTest)\n",
    "\n",
    "    for i in range(len(output)):\n",
    "        writer.writerow([ids[i], output[i]])"
   ]
  }
 ],
 "metadata": {
  "kernelspec": {
   "display_name": "Python 3",
   "language": "python",
   "name": "python3"
  },
  "language_info": {
   "codemirror_mode": {
    "name": "ipython",
    "version": 3
   },
   "file_extension": ".py",
   "mimetype": "text/x-python",
   "name": "python",
   "nbconvert_exporter": "python",
   "pygments_lexer": "ipython3",
   "version": "3.5.2"
  }
 },
 "nbformat": 4,
 "nbformat_minor": 2
}
