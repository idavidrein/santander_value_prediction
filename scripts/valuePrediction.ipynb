{
 "cells": [
  {
   "cell_type": "code",
   "execution_count": 1,
   "metadata": {},
   "outputs": [],
   "source": [
    "import pandas as pd\n",
    "import numpy as np\n",
    "import csv\n",
    "import xgboost as xgb\n",
    "import matplotlib.pyplot as plt\n",
    "from sklearn.model_selection import cross_val_score\n",
    "from sklearn.model_selection import train_test_split\n",
    "from sklearn.neural_network import MLPRegressor\n",
    "from sklearn.ensemble import RandomForestRegressor\n",
    "from sklearn.decomposition import PCA\n",
    "from sklearn import linear_model\n",
    "from sklearn import preprocessing"
   ]
  },
  {
   "cell_type": "code",
   "execution_count": 2,
   "metadata": {},
   "outputs": [],
   "source": [
    "#Root Mean Squared Log Error\n",
    "#Ensure all positive values in input arrays\n",
    "def rmsle(truth, predicted):\n",
    "    return np.sqrt(np.mean((predicted - truth) ** 2))"
   ]
  },
  {
   "cell_type": "code",
   "execution_count": 12,
   "metadata": {},
   "outputs": [],
   "source": [
    "#load data\n",
    "train_df = pd.read_csv('../input/train.csv', index_col = \"ID\")\n",
    "y_train = np.log1p(train_df.pop('target'))\n",
    "\n",
    "test_df = pd.read_csv('../input/test.csv', index_col = \"ID\")\n",
    "test_ID = test_df.index.tolist()"
   ]
  },
  {
   "cell_type": "code",
   "execution_count": 11,
   "metadata": {},
   "outputs": [],
   "source": [
    "# GLOBAL VARS\n",
    "USE_PCA = False\n",
    "NUM_OF_FEATURES = 1000 # number of features to keep from RF\n",
    "NUM_OF_DECIMALS = 4 # number of decimal places to keep"
   ]
  },
  {
   "cell_type": "markdown",
   "metadata": {},
   "source": [
    "# Preprocessing"
   ]
  },
  {
   "cell_type": "code",
   "execution_count": 17,
   "metadata": {},
   "outputs": [],
   "source": [
    "#remove columns with only one value\n",
    "colsToRemove = train_df.columns[train_df.nunique() == 1]\n",
    "train_df.drop(colsToRemove.values, axis = 1, inplace = True)\n",
    "test_df.drop(colsToRemove.values, axis = 1, inplace = True)\n",
    "\n",
    "#round to NUM_OF_DECIMALS\n",
    "train_df = train_df.round(NUM_OF_DECIMALS)\n",
    "test_df = test_df.round(NUM_OF_DECIMALS)"
   ]
  },
  {
   "cell_type": "code",
   "execution_count": 18,
   "metadata": {},
   "outputs": [
    {
     "name": "stdout",
     "output_type": "stream",
     "text": [
      "1.53680625241\n"
     ]
    },
    {
     "data": {
      "text/plain": [
       "(4459, 1000)"
      ]
     },
     "execution_count": 18,
     "metadata": {},
     "output_type": "execute_result"
    }
   ],
   "source": [
    "#PCA dimensionality reduction\n",
    "if USE_PCA:\n",
    "    pca = PCA(n_components = 1000)\n",
    "    train_df = pd.DataFrame(pca.fit_transform(train_df))\n",
    "    test_df = pd.DataFrame(pca.transform(test_df))\n",
    "\n",
    "#use RF to select the NUM_OF_FEATURES most important features for predicting target\n",
    "from sklearn import model_selection\n",
    "from sklearn import ensemble\n",
    "NUM_OF_FEATURES = 1000\n",
    "x1, x2, y1, y2 = model_selection.train_test_split(\n",
    "    train_df, y_train.values, test_size=0.20, random_state=5)\n",
    "model = ensemble.RandomForestRegressor(n_jobs=-1)\n",
    "model.fit(x1, y1)\n",
    "print(rmsle(y2, model.predict(x2)))\n",
    "col = pd.DataFrame({'importance': model.feature_importances_, 'feature': train_df.columns}).sort_values(\n",
    "    by=['importance'], ascending=[False])[:NUM_OF_FEATURES]['feature'].values\n",
    "X_train = train_df[col]\n",
    "test_df = test_df[col]\n",
    "X_train.shape"
   ]
  },
  {
   "cell_type": "code",
   "execution_count": 19,
   "metadata": {},
   "outputs": [
    {
     "name": "stderr",
     "output_type": "stream",
     "text": [
      "c:\\users\\david rein\\appdata\\local\\programs\\python\\python36\\lib\\site-packages\\ipykernel_launcher.py:2: SettingWithCopyWarning: \n",
      "A value is trying to be set on a copy of a slice from a DataFrame.\n",
      "Try using .loc[row_indexer,col_indexer] = value instead\n",
      "\n",
      "See the caveats in the documentation: http://pandas.pydata.org/pandas-docs/stable/indexing.html#indexing-view-versus-copy\n",
      "  \n",
      "c:\\users\\david rein\\appdata\\local\\programs\\python\\python36\\lib\\site-packages\\ipykernel_launcher.py:3: SettingWithCopyWarning: \n",
      "A value is trying to be set on a copy of a slice from a DataFrame.\n",
      "Try using .loc[row_indexer,col_indexer] = value instead\n",
      "\n",
      "See the caveats in the documentation: http://pandas.pydata.org/pandas-docs/stable/indexing.html#indexing-view-versus-copy\n",
      "  This is separate from the ipykernel package so we can avoid doing imports until\n",
      "c:\\users\\david rein\\appdata\\local\\programs\\python\\python36\\lib\\site-packages\\ipykernel_launcher.py:4: SettingWithCopyWarning: \n",
      "A value is trying to be set on a copy of a slice from a DataFrame.\n",
      "Try using .loc[row_indexer,col_indexer] = value instead\n",
      "\n",
      "See the caveats in the documentation: http://pandas.pydata.org/pandas-docs/stable/indexing.html#indexing-view-versus-copy\n",
      "  after removing the cwd from sys.path.\n",
      "c:\\users\\david rein\\appdata\\local\\programs\\python\\python36\\lib\\site-packages\\ipykernel_launcher.py:5: SettingWithCopyWarning: \n",
      "A value is trying to be set on a copy of a slice from a DataFrame.\n",
      "Try using .loc[row_indexer,col_indexer] = value instead\n",
      "\n",
      "See the caveats in the documentation: http://pandas.pydata.org/pandas-docs/stable/indexing.html#indexing-view-versus-copy\n",
      "  \"\"\"\n",
      "c:\\users\\david rein\\appdata\\local\\programs\\python\\python36\\lib\\site-packages\\ipykernel_launcher.py:13: SettingWithCopyWarning: \n",
      "A value is trying to be set on a copy of a slice from a DataFrame.\n",
      "Try using .loc[row_indexer,col_indexer] = value instead\n",
      "\n",
      "See the caveats in the documentation: http://pandas.pydata.org/pandas-docs/stable/indexing.html#indexing-view-versus-copy\n",
      "  del sys.path[0]\n",
      "c:\\users\\david rein\\appdata\\local\\programs\\python\\python36\\lib\\site-packages\\ipykernel_launcher.py:17: SettingWithCopyWarning: \n",
      "A value is trying to be set on a copy of a slice from a DataFrame.\n",
      "Try using .loc[row_indexer,col_indexer] = value instead\n",
      "\n",
      "See the caveats in the documentation: http://pandas.pydata.org/pandas-docs/stable/indexing.html#indexing-view-versus-copy\n"
     ]
    }
   ],
   "source": [
    "#feature engineering\n",
    "X_train['mean'] = X_train.mean(axis=1)\n",
    "X_train['std'] = X_train.std(axis=1)\n",
    "X_train['min'] = X_train.min(axis=1)\n",
    "X_train['max'] = X_train.max(axis=1)\n",
    "\n",
    "test_df['mean'] = test_df.mean(axis=1)\n",
    "test_df['std'] = test_df.std(axis=1)\n",
    "test_df['min'] = test_df.min(axis=1)\n",
    "test_df['max'] = test_df.max(axis=1)\n",
    "\n",
    "# Number of diferent values in a row.\n",
    "X_train['number_of_different'] = X_train.nunique(axis=1)\n",
    "test_df['number_of_different'] = test_df.nunique(axis=1)\n",
    "\n",
    "# Number of non zero values (e.g. transaction count)\n",
    "X_train['non_zero_count'] = X_train.fillna(0).astype(bool).sum(axis=1)\n",
    "test_df['non_zero_count'] = test_df.fillna(0).astype(bool).sum(axis=1)"
   ]
  },
  {
   "cell_type": "markdown",
   "metadata": {},
   "source": [
    "# Modelling"
   ]
  },
  {
   "cell_type": "code",
   "execution_count": 20,
   "metadata": {},
   "outputs": [],
   "source": [
    "from sklearn.ensemble import RandomForestRegressor,  GradientBoostingRegressor\n",
    "from sklearn.base import BaseEstimator, TransformerMixin, RegressorMixin, clone\n",
    "from sklearn.model_selection import KFold, cross_val_score, train_test_split\n",
    "from sklearn.metrics import mean_squared_error\n",
    "import xgboost as xgb\n",
    "\n",
    "#note: X_train and y_train are fed as global variables\n",
    "NUM_FOLDS = 5 #need tuned\n",
    "def rmsle_cv(model):\n",
    "    kf = KFold(NUM_FOLDS, shuffle=True, random_state=42).get_n_splits(X_train.values)\n",
    "    rmse = np.sqrt(-cross_val_score(model, X_train.values, y_train, \n",
    "                                    scoring = \"neg_mean_squared_error\", cv = kf))\n",
    "    return(rmse)\n",
    "\n",
    "model_xgb = xgb.XGBRegressor(colsample_bytree = 0.054, colsample_bylevel = 0.5, \n",
    "                             gamma = 1.45, learning_rate = 0.02, max_depth = 22, \n",
    "                             objective = 'reg:linear', booster = 'gbtree',\n",
    "                             min_child_weight = 57, n_estimators = 1000, reg_alpha = 0, \n",
    "                             reg_lambda = 0, eval_metric = 'rmse', subsample = 0.67, \n",
    "                             silent = 0, n_jobs = -1, early_stopping_rounds = 14,\n",
    "                             random_state = 7, nthread = -1)\n"
   ]
  },
  {
   "cell_type": "code",
   "execution_count": 21,
   "metadata": {},
   "outputs": [],
   "source": [
    "score = rmsle_cv(model_xgb)"
   ]
  },
  {
   "cell_type": "code",
   "execution_count": 22,
   "metadata": {},
   "outputs": [
    {
     "name": "stdout",
     "output_type": "stream",
     "text": [
      "[ 1.35241623  1.44002085  1.30074459  1.36320909  1.4553989 ] \n",
      "mean:  1.38235793052 \n",
      "std:   0.0575915212268\n"
     ]
    }
   ],
   "source": [
    "print(score, '\\nmean: ', np.mean(score), '\\nstd:  ', np.std(score))"
   ]
  },
  {
   "cell_type": "code",
   "execution_count": 23,
   "metadata": {},
   "outputs": [
    {
     "name": "stdout",
     "output_type": "stream",
     "text": [
      "Wall time: 12min 30s\n"
     ]
    }
   ],
   "source": [
    "%%time\n",
    "model_xgb.fit(X_train.values, y_train)\n",
    "output = np.expm1(model_xgb.predict(test_df.values))\n",
    "\n",
    "submit = pd.DataFrame()\n",
    "submit['ID'] = test_ID\n",
    "submit['target'] = output\n",
    "submit.to_csv('../predictions/predictions.csv', index=False)\n",
    "\n"
   ]
  }
 ],
 "metadata": {
  "kernelspec": {
   "display_name": "Python 3",
   "language": "python",
   "name": "python3"
  },
  "language_info": {
   "codemirror_mode": {
    "name": "ipython",
    "version": 3
   },
   "file_extension": ".py",
   "mimetype": "text/x-python",
   "name": "python",
   "nbconvert_exporter": "python",
   "pygments_lexer": "ipython3",
   "version": "3.6.3"
  }
 },
 "nbformat": 4,
 "nbformat_minor": 2
}
