{
 "cells": [
  {
   "cell_type": "code",
   "execution_count": 2,
   "metadata": {},
   "outputs": [],
   "source": [
    "import pandas as pd\n",
    "import numpy as np\n",
    "import csv\n",
    "import xgboost as xgb\n",
    "import matplotlib.pyplot as plt\n",
    "from sklearn.model_selection import cross_val_score\n",
    "from sklearn.model_selection import train_test_split\n",
    "from sklearn.neural_network import MLPRegressor\n",
    "from sklearn.ensemble import RandomForestRegressor\n",
    "from sklearn.decomposition import PCA\n",
    "from sklearn import linear_model\n",
    "from sklearn import preprocessing"
   ]
  },
  {
   "cell_type": "code",
   "execution_count": 3,
   "metadata": {},
   "outputs": [],
   "source": [
    "#Root Mean Squared Log Error\n",
    "#Ensure all positive values in input arrays\n",
    "def rmsle(truth, predicted):\n",
    "    return np.sqrt(np.mean((predicted - truth) ** 2))"
   ]
  },
  {
   "cell_type": "code",
   "execution_count": 14,
   "metadata": {},
   "outputs": [],
   "source": [
    "#load data\n",
    "train_df = pd.read_csv('../input/train.csv', index_col = \"ID\")\n",
    "y_train = np.log1p(train_df.pop('target'))\n",
    "\n",
    "test_df = pd.read_csv('../input/test.csv', index_col = \"ID\")\n",
    "test_ID = test_df.index.tolist()"
   ]
  },
  {
   "cell_type": "code",
   "execution_count": 21,
   "metadata": {},
   "outputs": [],
   "source": [
    "# GLOBAL VARS\n",
    "USE_PCA = False\n",
    "NUM_OF_FEATURES = 1000 #number of features to keep from RF\n",
    "USE_SELECT_FEATURES = True"
   ]
  },
  {
   "cell_type": "markdown",
   "metadata": {},
   "source": [
    "# Preprocessing"
   ]
  },
  {
   "cell_type": "code",
   "execution_count": 29,
   "metadata": {},
   "outputs": [],
   "source": [
    "#remove columns with only one value\n",
    "colsToRemove = train_df.columns[train_df.nunique() == 1]\n",
    "train_df.drop(colsToRemove.values, axis = 1, inplace = True)\n",
    "test_df.drop(colsToRemove.values, axis = 1, inplace = True)"
   ]
  },
  {
   "cell_type": "code",
   "execution_count": 30,
   "metadata": {},
   "outputs": [
    {
     "name": "stderr",
     "output_type": "stream",
     "text": [
      "c:\\users\\david rein\\appdata\\local\\programs\\python\\python36\\lib\\site-packages\\pandas\\core\\indexes\\api.py:87: RuntimeWarning: '<' not supported between instances of 'str' and 'int', sort order is undefined for incomparable objects\n",
      "  result = result.union(other)\n"
     ]
    },
    {
     "name": "stdout",
     "output_type": "stream",
     "text": [
      "1.53712799768\n"
     ]
    }
   ],
   "source": [
    "#PCA dimensionality reduction\n",
    "if USE_PCA:\n",
    "    pca = PCA(n_components = 10)\n",
    "    pca_train = pd.DataFrame(pca.fit_transform(train_df))\n",
    "    pca_test = pd.DataFrame(pca.transform(test_df))\n",
    "    train_df.append(pca_train)\n",
    "    test_df.append(pca_test)\n",
    "\n",
    "#use RF to select the NUM_OF_FEATURES most important features for predicting target\n",
    "from sklearn import model_selection\n",
    "from sklearn import ensemble\n",
    "if USE_SELECT_FEATURES:\n",
    "    NUM_OF_FEATURES = 1000\n",
    "    x1, x2, y1, y2 = model_selection.train_test_split(\n",
    "        train_df, y_train.values, test_size=0.20, random_state=5)\n",
    "    model = ensemble.RandomForestRegressor(n_jobs=-1)\n",
    "    model.fit(x1, y1)\n",
    "    print(rmsle(y2, model.predict(x2)))\n",
    "    col = pd.DataFrame({'importance': model.feature_importances_, 'feature': train_df.columns}).sort_values(\n",
    "        by=['importance'], ascending=[False])[:NUM_OF_FEATURES]['feature'].values\n",
    "    X_train = train_df[col].copy()\n",
    "    test = test_df[col].copy()"
   ]
  },
  {
   "cell_type": "code",
   "execution_count": 34,
   "metadata": {},
   "outputs": [],
   "source": [
    "#feature engineering\n",
    "X_train.loc[:,'mean'] = X_train.mean(axis=1)\n",
    "X_train.loc[:,'std'] = X_train.std(axis=1)\n",
    "X_train.loc[:,'min'] = X_train.min(axis=1)\n",
    "X_train.loc[:,'max'] = X_train.max(axis=1)\n",
    "\n",
    "test.loc[:,'mean'] = test.mean(axis=1)\n",
    "test.loc[:,'std'] = test.std(axis=1)\n",
    "test.loc[:,'min'] = test.min(axis=1)\n",
    "test.loc[:,'max'] = test.max(axis=1)\n",
    "\n",
    "# Number of diferent values in a row.\n",
    "X_train.loc[:,'number_of_different'] = X_train.nunique(axis=1)\n",
    "test.loc[:,'number_of_different'] = test.nunique(axis=1)\n",
    "\n",
    "# Number of non zero values (e.g. transaction count)\n",
    "X_train.loc[:,'non_zero_count'] = X_train.fillna(0).astype(bool).sum(axis=1)\n",
    "test.loc[:,'non_zero_count'] = test.fillna(0).astype(bool).sum(axis=1)"
   ]
  },
  {
   "cell_type": "markdown",
   "metadata": {},
   "source": [
    "# Modelling"
   ]
  },
  {
   "cell_type": "code",
   "execution_count": 31,
   "metadata": {},
   "outputs": [],
   "source": [
    "from sklearn.ensemble import RandomForestRegressor,  GradientBoostingRegressor\n",
    "from sklearn.base import BaseEstimator, TransformerMixin, RegressorMixin, clone\n",
    "from sklearn.model_selection import KFold, cross_val_score, train_test_split\n",
    "from sklearn.metrics import mean_squared_error\n",
    "import xgboost as xgb\n",
    "\n",
    "#note: X_train and y_train are fed as global variables\n",
    "NUM_FOLDS = 5 #need tuned\n",
    "def rmsle_cv(model):\n",
    "    kf = KFold(NUM_FOLDS, shuffle=True, random_state=42).get_n_splits(X_train.values)\n",
    "    rmse = np.sqrt(-cross_val_score(model, X_train.values, y_train, \n",
    "                                    scoring = \"neg_mean_squared_error\", cv = kf))\n",
    "    return(rmse)\n",
    "\n",
    "model_xgb = xgb.XGBRegressor(colsample_bytree = 0.054, colsample_bylevel = 0.5, \n",
    "                             gamma = 1.45, learning_rate = 0.01, max_depth = 22, \n",
    "                             objective = 'reg:linear', booster = 'gbtree',\n",
    "                             min_child_weight = 57, n_estimators = 1000, reg_alpha = 0, \n",
    "                             reg_lambda = 0, eval_metric = 'rmse', subsample = 0.67, \n",
    "                             silent = 0, n_jobs = -1, early_stopping_rounds = 14,\n",
    "                             random_state = 7, nthread = -1)\n"
   ]
  },
  {
   "cell_type": "code",
   "execution_count": 35,
   "metadata": {},
   "outputs": [],
   "source": [
    "score = rmsle_cv(model_xgb)"
   ]
  },
  {
   "cell_type": "code",
   "execution_count": 36,
   "metadata": {},
   "outputs": [
    {
     "name": "stdout",
     "output_type": "stream",
     "text": [
      "[ 1.34846883  1.4348952   1.29793963  1.3549723   1.45467435]\n",
      "mean: 1.3781900629561208\n",
      "std:  0.05818568009808714\n"
     ]
    }
   ],
   "source": [
    "print(\"{}\\nmean: {}\\nstd:  {}\".format(score, np.mean(score), np.std(score)))"
   ]
  },
  {
   "cell_type": "code",
   "execution_count": 28,
   "metadata": {},
   "outputs": [
    {
     "name": "stdout",
     "output_type": "stream",
     "text": [
      "Wall time: 6min 21s\n"
     ]
    }
   ],
   "source": [
    "%%time\n",
    "model_xgb.fit(X_train.values, y_train)\n",
    "output = np.expm1(model_xgb.predict(test.values))\n",
    "\n",
    "submit = pd.DataFrame()\n",
    "submit['ID'] = test_ID\n",
    "submit['target'] = output\n",
    "submit.to_csv('../predictions/predictions.csv', index=False)"
   ]
  }
 ],
 "metadata": {
  "kernelspec": {
   "display_name": "Python 3",
   "language": "python",
   "name": "python3"
  },
  "language_info": {
   "codemirror_mode": {
    "name": "ipython",
    "version": 3
   },
   "file_extension": ".py",
   "mimetype": "text/x-python",
   "name": "python",
   "nbconvert_exporter": "python",
   "pygments_lexer": "ipython3",
   "version": "3.6.3"
  }
 },
 "nbformat": 4,
 "nbformat_minor": 2
}
