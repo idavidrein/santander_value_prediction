{
 "cells": [
  {
   "cell_type": "code",
   "execution_count": 12,
   "metadata": {},
   "outputs": [],
   "source": [
    "import pandas as pd\n",
    "import numpy as np\n",
    "import csv\n",
    "import matplotlib.pyplot as plt\n",
    "from sklearn.model_selection import cross_val_score\n",
    "from sklearn.neural_network import MLPRegressor\n",
    "from sklearn.ensemble import RandomForestRegressor\n",
    "from sklearn import linear_model\n",
    "from sklearn import preprocessing"
   ]
  },
  {
   "cell_type": "code",
   "execution_count": 27,
   "metadata": {},
   "outputs": [],
   "source": [
    "#Root Mean Squared Log Error\n",
    "#Ensure all positive values in input arrays\n",
    "def rmsle(truth, predicted):\n",
    "    return np.sqrt(np.mean((np.log1p(predicted)-np.log1p(truth))**2))"
   ]
  },
  {
   "cell_type": "code",
   "execution_count": 7,
   "metadata": {},
   "outputs": [],
   "source": [
    "#load data\n",
    "train_df = pd.read_csv('../input/train.csv')\n",
    "y_train = train_df.pop('target')\n",
    "iiii = train_df.pop('ID')"
   ]
  },
  {
   "cell_type": "code",
   "execution_count": 23,
   "metadata": {},
   "outputs": [],
   "source": [
    "#preprocess\n",
    "#remove columns only with zeros\n",
    "train_df = train_df.loc[:, (train_df != 0).any(axis = 0)]\n",
    "\n",
    "#add features\n",
    "def prepare(data_orig):\n",
    "    data = pd.DataFrame()\n",
    "    data['mean'] = data_orig.mean(axis=1)\n",
    "    data['std'] = data_orig.std(axis=1)\n",
    "    data['min'] = data_orig.min(axis=1)\n",
    "    data['max'] = data_orig.max(axis=1)\n",
    "    \n",
    "    # Number of diferent values in a row.\n",
    "    data['number_of_different'] = data_orig.nunique(axis=1)\n",
    "    \n",
    "    # Number of non zero values (e.g. transaction count)\n",
    "    data['non_zero_count'] = data_orig.fillna(0).astype(bool).sum(axis=1)\n",
    "    return data\n",
    "\n",
    "X_train = prepare(train_df).values"
   ]
  },
  {
   "cell_type": "code",
   "execution_count": 40,
   "metadata": {
    "scrolled": true
   },
   "outputs": [],
   "source": [
    "#create, fit, and evaluate model\n",
    "forest = RandomForestRegressor(n_estimators = 100)\n",
    "scores = np.sqrt(-cross_val_score(forest, X_train, y_train, cv = 10, \n",
    "                                  scoring = 'neg_mean_squared_log_error'))"
   ]
  },
  {
   "cell_type": "code",
   "execution_count": 43,
   "metadata": {},
   "outputs": [
    {
     "name": "stdout",
     "output_type": "stream",
     "text": [
      "1.618035717760581\n"
     ]
    }
   ],
   "source": [
    "print(np.mean(scores))"
   ]
  },
  {
   "cell_type": "code",
   "execution_count": null,
   "metadata": {},
   "outputs": [],
   "source": [
    "test_df = pd.read_csv('../input/test.csv')\n",
    "ids = test_df.pop('ID')\n",
    "\n",
    "with open(\"../predictions/predictions.csv\", \"w\", newline = '') as writeCSV:\n",
    "    writer = csv.writer(writeCSV)\n",
    "    writer.writerow([\"ID\",\"target\"])\n",
    "    kTest = prepare(test_df).values\n",
    "    output = forest.predict(kTest)\n",
    "\n",
    "    for i in range(len(output)):\n",
    "        writer.writerow([ids[i], output[i]])"
   ]
  }
 ],
 "metadata": {
  "kernelspec": {
   "display_name": "Python 3",
   "language": "python",
   "name": "python3"
  },
  "language_info": {
   "codemirror_mode": {
    "name": "ipython",
    "version": 3
   },
   "file_extension": ".py",
   "mimetype": "text/x-python",
   "name": "python",
   "nbconvert_exporter": "python",
   "pygments_lexer": "ipython3",
   "version": "3.5.2"
  }
 },
 "nbformat": 4,
 "nbformat_minor": 2
}
