{
 "cells": [
  {
   "cell_type": "code",
   "execution_count": 23,
   "metadata": {},
   "outputs": [],
   "source": [
    "import pandas as pd\n",
    "import numpy as np\n",
    "import csv\n",
    "import matplotlib.pyplot as plt\n",
    "from sklearn.model_selection import cross_val_score\n",
    "from sklearn.neural_network import MLPRegressor\n",
    "from sklearn.ensemble import RandomForestRegressor\n",
    "from sklearn import linear_model\n",
    "from sklearn import preprocessing"
   ]
  },
  {
   "cell_type": "code",
   "execution_count": 24,
   "metadata": {},
   "outputs": [],
   "source": [
    "#Root Mean Squared Log Error\n",
    "#Ensure all positive values in input arrays\n",
    "def rmsle(truth, predicted):\n",
    "    return np.sqrt(np.mean( (np.log1p(predicted) - np.log1p(truth)) ** 2) )"
   ]
  },
  {
   "cell_type": "code",
   "execution_count": 32,
   "metadata": {},
   "outputs": [
    {
     "data": {
      "text/plain": [
       "0       000d6aaf2\n",
       "1       000fbd867\n",
       "2       0027d6b71\n",
       "3       0028cbf45\n",
       "4       002a68644\n",
       "5       002dbeb22\n",
       "6       003925ac6\n",
       "7       003eb0261\n",
       "8       004b92275\n",
       "9       0067b4fef\n",
       "10      00689ee2c\n",
       "11      0069007ac\n",
       "12      006b60dd7\n",
       "13      008057126\n",
       "14      008825875\n",
       "15      0096e207e\n",
       "16      00c2deb75\n",
       "17      00ce2134f\n",
       "18      00e7ba121\n",
       "19      00ecc53f2\n",
       "20      00fb69afe\n",
       "21      00fc78888\n",
       "22      0110c05db\n",
       "23      0126abf21\n",
       "24      012800ace\n",
       "25      012d8bc84\n",
       "26      012d9baab\n",
       "27      01346ebb9\n",
       "28      013842698\n",
       "29      01432f2c7\n",
       "          ...    \n",
       "4429    fdf7658f0\n",
       "4430    fe02247d5\n",
       "4431    fe0c5726a\n",
       "4432    fe22d064a\n",
       "4433    fe243db29\n",
       "4434    fe497b462\n",
       "4435    fe5414c97\n",
       "4436    fe596c7c2\n",
       "4437    fe7595983\n",
       "4438    fe800ed37\n",
       "4439    fe808da78\n",
       "4440    feb1ad7a8\n",
       "4441    febbda7c9\n",
       "4442    fed131a60\n",
       "4443    fef33cb02\n",
       "4444    fef8c8005\n",
       "4445    ff0dccf66\n",
       "4446    ff2320d84\n",
       "4447    ff2558703\n",
       "4448    ff34496ea\n",
       "4449    ff3d0e888\n",
       "4450    ff3e1f24c\n",
       "4451    ff7b7c367\n",
       "4452    ff7be29d2\n",
       "4453    ff7cdeb16\n",
       "4454    ff85154c8\n",
       "4455    ffb6b3f4f\n",
       "4456    ffcf61eb6\n",
       "4457    ffea67e98\n",
       "4458    ffeb15d25\n",
       "Name: ID, Length: 4459, dtype: object"
      ]
     },
     "execution_count": 32,
     "metadata": {},
     "output_type": "execute_result"
    }
   ],
   "source": [
    "#load data\n",
    "train_df = pd.read_csv('../input/train.csv')\n",
    "y = train_df.pop('target')\n",
    "train_df.pop('ID')"
   ]
  },
  {
   "cell_type": "code",
   "execution_count": 26,
   "metadata": {},
   "outputs": [],
   "source": [
    "#preprocess\n",
    "\n",
    "#add features\n",
    "def prepare(data_orig):\n",
    "    data = pd.DataFrame()\n",
    "    data['mean'] = data_orig.mean(axis=1)\n",
    "    data['std'] = data_orig.std(axis=1)\n",
    "    data['min'] = data_orig.min(axis=1)\n",
    "    data['max'] = data_orig.max(axis=1)\n",
    "    \n",
    "    # Number of diferent values in a row.\n",
    "    data['number_of_different'] = data_orig.nunique(axis=1)\n",
    "    \n",
    "    # Number of non zero values (e.g. transaction count)\n",
    "    data['non_zero_count'] = data_orig.fillna(0).astype(bool).sum(axis=1)\n",
    "    return data\n",
    "\n",
    "X = prepare(train_df)"
   ]
  },
  {
   "cell_type": "code",
   "execution_count": 27,
   "metadata": {},
   "outputs": [],
   "source": [
    "#create training set\n",
    "X_train = X.values\n",
    "y_train = y"
   ]
  },
  {
   "cell_type": "code",
   "execution_count": 46,
   "metadata": {
    "scrolled": true
   },
   "outputs": [
    {
     "data": {
      "text/plain": [
       "RandomForestRegressor(bootstrap=True, criterion='mse', max_depth=None,\n",
       "           max_features='auto', max_leaf_nodes=None,\n",
       "           min_impurity_decrease=0.0, min_impurity_split=None,\n",
       "           min_samples_leaf=1, min_samples_split=2,\n",
       "           min_weight_fraction_leaf=0.0, n_estimators=10, n_jobs=1,\n",
       "           oob_score=False, random_state=None, verbose=0, warm_start=False)"
      ]
     },
     "execution_count": 46,
     "metadata": {},
     "output_type": "execute_result"
    }
   ],
   "source": [
    "#create and fit model\n",
    "forest = RandomForestRegressor(n_estimators = 10)\n",
    "forest.fit(X_train, y_train)"
   ]
  },
  {
   "cell_type": "code",
   "execution_count": 47,
   "metadata": {},
   "outputs": [
    {
     "name": "stdout",
     "output_type": "stream",
     "text": [
      "RMSLE:  1.0212905616400627\n"
     ]
    }
   ],
   "source": [
    "#evaluate model\n",
    "predictions = forest.predict(X_train)\n",
    "print('RMSLE: ', rmsle(y_train.values, predictions))"
   ]
  },
  {
   "cell_type": "code",
   "execution_count": 37,
   "metadata": {},
   "outputs": [],
   "source": [
    "test_df = pd.read_csv('../input/test.csv')\n",
    "ids = test_df.pop('ID')\n",
    "\n",
    "with open(\"../predictions/predictions.csv\", \"w\", newline = '') as writeCSV:\n",
    "    writer = csv.writer(writeCSV)\n",
    "    writer.writerow([\"ID\",\"target\"])\n",
    "    kTest = prepare(test_df).values\n",
    "    output = forest.predict(kTest)\n",
    "\n",
    "    for i in range(len(output)):\n",
    "        writer.writerow([ids[i], output[i]])"
   ]
  }
 ],
 "metadata": {
  "kernelspec": {
   "display_name": "Python 3",
   "language": "python",
   "name": "python3"
  },
  "language_info": {
   "codemirror_mode": {
    "name": "ipython",
    "version": 3
   },
   "file_extension": ".py",
   "mimetype": "text/x-python",
   "name": "python",
   "nbconvert_exporter": "python",
   "pygments_lexer": "ipython3",
   "version": "3.5.2"
  }
 },
 "nbformat": 4,
 "nbformat_minor": 2
}
