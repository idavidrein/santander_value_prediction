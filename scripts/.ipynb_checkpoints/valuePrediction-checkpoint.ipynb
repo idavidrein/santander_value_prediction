{
 "cells": [
  {
   "cell_type": "code",
   "execution_count": 1,
   "metadata": {},
   "outputs": [],
   "source": [
    "import pandas as pd\n",
    "import numpy as np\n",
    "import csv\n",
    "import xgboost as xgb\n",
    "import matplotlib.pyplot as plt\n",
    "from sklearn.model_selection import cross_val_score\n",
    "from sklearn.model_selection import train_test_split\n",
    "from sklearn.neural_network import MLPRegressor\n",
    "from sklearn.ensemble import RandomForestRegressor\n",
    "from sklearn.decomposition import PCA\n",
    "from sklearn import linear_model\n",
    "from sklearn import preprocessing"
   ]
  },
  {
   "cell_type": "code",
   "execution_count": 8,
   "metadata": {},
   "outputs": [],
   "source": [
    "#Root Mean Squared Log Error\n",
    "#Ensure all positive values in input arrays\n",
    "def rmsle(truth, predicted):\n",
    "    return np.sqrt(np.mean((predicted - truth) ** 2))"
   ]
  },
  {
   "cell_type": "code",
   "execution_count": 67,
   "metadata": {},
   "outputs": [],
   "source": [
    "#load data\n",
    "train_df = pd.read_csv('../input/train.csv', index_col = \"ID\")\n",
    "y_train = np.log1p(train_df.pop('target'))\n",
    "\n",
    "test_df = pd.read_csv('../input/test.csv', index_col = \"ID\")\n",
    "test_ID = test_df.index.tolist()"
   ]
  },
  {
   "cell_type": "markdown",
   "metadata": {},
   "source": [
    "# Preprocessing"
   ]
  },
  {
   "cell_type": "code",
   "execution_count": 68,
   "metadata": {},
   "outputs": [],
   "source": [
    "#remove columns with only one value\n",
    "colsToRemove = train_df.columns[train_df.nunique() == 1]\n",
    "train_df.drop(colsToRemove.values, axis = 1, inplace = True)\n",
    "test_df.drop(colsToRemove.values, axis = 1, inplace = True)\n",
    "\n",
    "#round to NUM_OF_DECIMALS\n",
    "NUM_OF_DECIMALS = 5\n",
    "train_df = train_df.round(NUM_OF_DECIMALS)\n",
    "test_df = test_df.round(NUM_OF_DECIMALS)"
   ]
  },
  {
   "cell_type": "code",
   "execution_count": 16,
   "metadata": {},
   "outputs": [],
   "source": [
    "#remove duplicate columns\n",
    "colsToRemove = []\n",
    "columns = train_df.columns\n",
    "for i in range(len(columns)-1):\n",
    "    v = train_df[columns[i]].values\n",
    "    dupCols = []\n",
    "    for j in range(i + 1,len(columns)):\n",
    "        if np.array_equal(v, train_df[columns[j]].values):\n",
    "            colsToRemove.append(columns[j])\n",
    "train_df.drop(colsToRemove, axis=1, inplace=True) \n",
    "test_df.drop(colsToRemove, axis=1, inplace=True) "
   ]
  },
  {
   "cell_type": "code",
   "execution_count": 69,
   "metadata": {},
   "outputs": [],
   "source": [
    "#add features/preprocessing\n",
    "#PCA dimensionality reduction\n",
    "pca = PCA(n_components = 1000)\n",
    "X_train = pd.DataFrame(pca.fit_transform(train_df))\n",
    "test_df = pd.DataFrame(pca.transform(test_df))\n",
    "\n",
    "#feature engineering\n",
    "# data['mean'] = data_orig.mean(axis=1)\n",
    "# data['std'] = data_orig.std(axis=1)\n",
    "# data['min'] = data_orig.min(axis=1)\n",
    "# data['max'] = data_orig.max(axis=1)\n",
    "\n",
    "# # Number of diferent values in a row.\n",
    "# data['number_of_different'] = data_orig.nunique(axis=1)\n",
    "\n",
    "# # Number of non zero values (e.g. transaction count)\n",
    "# data['non_zero_count'] = data_orig.fillna(0).astype(bool).sum(axis=1)"
   ]
  },
  {
   "cell_type": "markdown",
   "metadata": {},
   "source": [
    "# Modelling"
   ]
  },
  {
   "cell_type": "code",
   "execution_count": 34,
   "metadata": {},
   "outputs": [],
   "source": [
    "from sklearn.ensemble import RandomForestRegressor,  GradientBoostingRegressor\n",
    "from sklearn.base import BaseEstimator, TransformerMixin, RegressorMixin, clone\n",
    "from sklearn.model_selection import KFold, cross_val_score, train_test_split\n",
    "from sklearn.metrics import mean_squared_error\n",
    "import xgboost as xgb\n",
    "\n",
    "#note: X_train and y_train are fed as global variables\n",
    "NUM_FOLDS = 8 #need tuned\n",
    "def rmsle_cv(model):\n",
    "    kf = KFold(NUM_FOLDS, shuffle=True, random_state=42).get_n_splits(X_train.values)\n",
    "    rmse = np.sqrt(-cross_val_score(model, X_train.values, y_train, \n",
    "                                    scoring = \"neg_mean_squared_error\", cv = kf))\n",
    "    return(rmse)\n",
    "\n",
    "model_xgb = xgb.XGBRegressor(colsample_bytree = 0.054, colsample_bylevel = 0.5, \n",
    "                             gamma = 1.45, learning_rate = 0.02, max_depth = 22, \n",
    "                             objective = 'reg:linear', booster = 'gbtree',\n",
    "                             min_child_weight = 57, n_estimators = 1000, reg_alpha = 0, \n",
    "                             reg_lambda = 0, eval_metric = 'rmse', subsample = 0.67, \n",
    "                             silent = 1, n_jobs = -1, early_stopping_rounds = 14,\n",
    "                             random_state = 7, nthread = -1, verbose = True)\n"
   ]
  },
  {
   "cell_type": "code",
   "execution_count": 35,
   "metadata": {},
   "outputs": [],
   "source": [
    "score = rmsle_cv(model_xgb)"
   ]
  },
  {
   "cell_type": "code",
   "execution_count": 39,
   "metadata": {},
   "outputs": [
    {
     "name": "stdout",
     "output_type": "stream",
     "text": [
      "[ 1.44619318  1.5566009   1.5092827   1.47950204  1.48087826  1.52347618\n",
      "  1.55837553  1.56091438] \n",
      "mean:  1.51440289707 \n",
      "std:  0.0402812915529\n"
     ]
    }
   ],
   "source": [
    "print(score, '\\nmean: ', np.mean(score), '\\nstd: ', np.std(score))"
   ]
  },
  {
   "cell_type": "code",
   "execution_count": 70,
   "metadata": {},
   "outputs": [
    {
     "name": "stdout",
     "output_type": "stream",
     "text": [
      "Wall time: 5min 29s\n"
     ]
    }
   ],
   "source": [
    "%%time\n",
    "model_xgb.fit(X_train.values, y_train)\n",
    "output = np.expm1(model_xgb.predict(test_df.values))\n",
    "\n",
    "submit = pd.DataFrame()\n",
    "submit['ID'] = test_ID\n",
    "submit['target'] = output\n",
    "submit.to_csv('../predictions/predictions.csv', index=False)"
   ]
  },
  {
   "cell_type": "code",
   "execution_count": null,
   "metadata": {},
   "outputs": [],
   "source": []
  }
 ],
 "metadata": {
  "kernelspec": {
   "display_name": "Python 3",
   "language": "python",
   "name": "python3"
  },
  "language_info": {
   "codemirror_mode": {
    "name": "ipython",
    "version": 3
   },
   "file_extension": ".py",
   "mimetype": "text/x-python",
   "name": "python",
   "nbconvert_exporter": "python",
   "pygments_lexer": "ipython3",
   "version": "3.6.3"
  }
 },
 "nbformat": 4,
 "nbformat_minor": 2
}
